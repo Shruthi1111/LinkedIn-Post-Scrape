{
 "cells": [
  {
   "cell_type": "code",
   "execution_count": 185,
   "metadata": {},
   "outputs": [],
   "source": [
    "#import all the required headers\n",
    "from selenium import webdriver\n",
    "import time\n",
    "import csv\n",
    "from selenium.common.exceptions import NoSuchElementException\n",
    "from selenium.webdriver.common.keys import Keys"
   ]
  },
  {
   "cell_type": "code",
   "execution_count": 186,
   "metadata": {},
   "outputs": [],
   "source": [
    "#Get the Credentials from details.txt file for log in\n",
    "username = ''\n",
    "password = ''\n",
    "chrome_driver = ''\n",
    "link = '' \n",
    "with open('details.txt','r') as file:\n",
    "    lines = file.readlines()\n",
    "    username = lines[0].split()[2].strip()\n",
    "    password = lines[1].split()[2].strip()\n",
    "    chrome_driver = lines[2].split()[2].strip()\n",
    "    scrape_link = lines[3].split()[2].strip()\n",
    "file.close()"
   ]
  },
  {
   "cell_type": "code",
   "execution_count": 187,
   "metadata": {},
   "outputs": [],
   "source": [
    "#Use the chrome driver to launch chrome and visit linkedin.com\n",
    "wd = webdriver.Chrome(chrome_driver)\n",
    "wd.get(\"https://www.linkedin.com\")"
   ]
  },
  {
   "cell_type": "code",
   "execution_count": 188,
   "metadata": {},
   "outputs": [],
   "source": [
    "#Enter the credentials and login\n",
    "time.sleep(1)\n",
    "wd.find_element_by_xpath('/html/body/nav/section[2]/form/div[1]/div[1]/input').send_keys(username)\n",
    "time.sleep(1)\n",
    "wd.find_element_by_xpath('/html/body/nav/section[2]/form/div[1]/div[2]/input').send_keys(password)\n",
    "time.sleep(1)\n",
    "wd.find_element_by_xpath('/html/body/nav/section[2]/form/div[2]/button').click()\n",
    "time.sleep(1)\n",
    "wd.get(scrape_link)\n",
    "time.sleep(1)"
   ]
  },
  {
   "cell_type": "code",
   "execution_count": 189,
   "metadata": {},
   "outputs": [],
   "source": [
    "#Recursively use the function to get comments from linkedin\n",
    "def get_comments():\n",
    "    try:\n",
    "        wd.find_element_by_xpath(\"//button[contains(@class,'button comments-comments-list__show-previous-button t-12 t-black t-normal hoverable-link-text')]\")\n",
    "    except NoSuchElementException:\n",
    "        return False\n",
    "    return True"
   ]
  },
  {
   "cell_type": "code",
   "execution_count": 190,
   "metadata": {},
   "outputs": [
    {
     "name": "stderr",
     "output_type": "stream",
     "text": [
      "C:\\Users\\shrut\\AppData\\Local\\Continuum\\anaconda3\\lib\\site-packages\\ipykernel_launcher.py:95: DeprecationWarning: use driver.switch_to.window instead\n"
     ]
    }
   ],
   "source": [
    "#Find the element provided by parameter\n",
    "def check_element(element):\n",
    "    try:\n",
    "        wd.find_element_by_xpath(element)\n",
    "    except NoSuchElementException:\n",
    "        return False\n",
    "    return True\n",
    "\n",
    "\n",
    "link_list = set()\n",
    "\n",
    "#Create a csv file with headers\n",
    "csv_columns = ['Name','Location','Linkedin Link','Company','University','Experience']\n",
    "csv_file =\"Result.csv\"\n",
    "try:\n",
    "    with open(csv_file, 'a') as csvfile:\n",
    "        writer = csv.DictWriter(csvfile, fieldnames=csv_columns)\n",
    "        writer.writeheader()\n",
    "except IOError:\n",
    "        print(\"I/O error\")\n",
    "\n",
    "#Flow for web scraping\n",
    "while get_comments():\n",
    "    comments = wd.find_elements_by_xpath(\"//a[contains(@class,'comments-post-meta__profile-link t-16 t-black t-bold tap-target ember-view')]\")\n",
    "    for comment in comments:\n",
    "        link = comment.get_attribute('href')\n",
    "        if not (link in link_list):\n",
    "            link_list.add(link)\n",
    "            current_tab = wd.current_window_handle\n",
    "            script = 'window.open(\"{}\");'.format(link)\n",
    "            wd.execute_script(script)\n",
    "            new_tab = [tab for tab in wd.window_handles if tab != current_tab][0]\n",
    "            wd.switch_to.window(new_tab)\n",
    "            time.sleep(3)\n",
    "            name = wd.find_element_by_xpath(\"//li[contains(@class,'inline t-24 t-black t-normal break-words')]\").text\n",
    "            location = wd.find_element_by_xpath(\"//li[contains(@class,'t-16 t-black t-normal inline-block')]\").text\n",
    "            exp = wd.find_elements_by_xpath(\"//span[contains(@class,'text-align-left ml2 t-14 t-black t-bold full-width lt-line-clamp lt-line-clamp--multi-line ember-view')]\")\n",
    "            if len(exp) == 1:\n",
    "                if(exp[0].text.find('University') >= 0 or exp[0].text.find('Institute') or exp[0].text.find('College') >= 0):\n",
    "                    university = exp[0].text\n",
    "                    company = 'N/A'\n",
    "                else:\n",
    "                    university = 'N/A'\n",
    "                    company = exp[0].text\n",
    "            else:\n",
    "                company = exp[0].text\n",
    "                university = exp[1].text\n",
    "            if company == university:\n",
    "                company = 'N/A'\n",
    "            exp_element = '//*[@id=\"experience-section\"]/ul'\n",
    "            SCROLL_PAUSE_TIME = 1\n",
    "            last_height = wd.execute_script(\"return document.body.scrollHeight\")\n",
    "            flag = 0\n",
    "            while not check_element(exp_element):\n",
    "                html = wd.find_element_by_tag_name('html')\n",
    "                html.send_keys(Keys.PAGE_DOWN)\n",
    "                time.sleep(SCROLL_PAUSE_TIME)\n",
    "                new_height = wd.execute_script(\"return document.body.scrollHeight\")\n",
    "                if new_height == last_height:\n",
    "                    flag = 1\n",
    "                    break\n",
    "                last_height = new_height\n",
    "            if flag == 0:\n",
    "                exp_elements = wd.find_element_by_xpath('//*[@id=\"experience-section\"]/ul')\n",
    "                exp_elements = exp_elements.find_elements_by_tag_name('li')\n",
    "                experiences = []\n",
    "                flag = 0\n",
    "                for exp in exp_elements:\n",
    "                    for i in range(4):\n",
    "                        exp = exp.find_elements_by_xpath(\".//*\")[0]\n",
    "                        if i == 3 and exp.get_attribute('class') == 'pv-entity__company-details':\n",
    "                            flag = 1\n",
    "                            break\n",
    "                    if flag == 1:\n",
    "                        break\n",
    "                    exp = exp.find_elements_by_xpath(\".//*\")[3]\n",
    "                    experiences.append(exp.text)\n",
    "                if flag == 1:\n",
    "                    exp_elements = wd.find_element_by_xpath(\"//ul[contains(@class,'pv-entity__position-group mt2')]\")\n",
    "                    exp_elements = exp_elements.find_elements_by_tag_name('li')\n",
    "                    for exp in exp_elements:\n",
    "                        experiences.append(exp.find_elements_by_xpath(\".//*\")[9].text)\n",
    "                \n",
    "#                  print(name,location,link,company,university,experiences)\n",
    "                appl = {\"Name\":name, \"Location\":location, \"Linkedin Link\":link, \"Company\":company, \"University\":university,\"Experience\":experiences}\n",
    "                \n",
    "                # Writing to csv file\n",
    "                try:\n",
    "                    with open(csv_file, 'a') as csvfile:\n",
    "                        writer = csv.DictWriter(csvfile, fieldnames=csv_columns)\n",
    "                        writer.writerow(appl)\n",
    "                except IOError:\n",
    "                    print(\"I/O error\")\n",
    "            wd.close()\n",
    "            wd.switch_to_window(current_tab)\n",
    "\n",
    "    wd.find_element_by_xpath(\"//button[contains(@class,'button comments-comments-list__show-previous-button t-12 t-black t-normal hoverable-link-text')]\").click()\n"
   ]
  },
  {
   "cell_type": "code",
   "execution_count": null,
   "metadata": {},
   "outputs": [],
   "source": []
  }
 ],
 "metadata": {
  "kernelspec": {
   "display_name": "Python 3",
   "language": "python",
   "name": "python3"
  },
  "language_info": {
   "codemirror_mode": {
    "name": "ipython",
    "version": 3
   },
   "file_extension": ".py",
   "mimetype": "text/x-python",
   "name": "python",
   "nbconvert_exporter": "python",
   "pygments_lexer": "ipython3",
   "version": "3.7.3"
  }
 },
 "nbformat": 4,
 "nbformat_minor": 2
}
